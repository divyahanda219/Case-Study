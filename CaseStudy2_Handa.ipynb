{
 "cells": [
  {
   "cell_type": "markdown",
   "metadata": {},
   "source": [
    "# Case study 2 \n",
    "## Divya Handa"
   ]
  },
  {
   "cell_type": "markdown",
   "metadata": {},
   "source": [
    "### Q1: Find the relation between treatment i.e. \"Crate size\" and \"Number of pigs born\" "
   ]
  },
  {
   "cell_type": "code",
   "execution_count": 44,
   "metadata": {},
   "outputs": [],
   "source": [
    "import pandas as pd\n",
    "import numpy as np\n",
    "import matplotlib.pyplot as plt\n"
   ]
  },
  {
   "cell_type": "code",
   "execution_count": 82,
   "metadata": {},
   "outputs": [
    {
     "data": {
      "text/html": [
       "<div>\n",
       "<style scoped>\n",
       "    .dataframe tbody tr th:only-of-type {\n",
       "        vertical-align: middle;\n",
       "    }\n",
       "\n",
       "    .dataframe tbody tr th {\n",
       "        vertical-align: top;\n",
       "    }\n",
       "\n",
       "    .dataframe thead th {\n",
       "        text-align: right;\n",
       "    }\n",
       "</style>\n",
       "<table border=\"1\" class=\"dataframe\">\n",
       "  <thead>\n",
       "    <tr style=\"text-align: right;\">\n",
       "      <th></th>\n",
       "      <th>Farrowing Group</th>\n",
       "      <th>Turn</th>\n",
       "      <th>Sow</th>\n",
       "      <th>Building</th>\n",
       "      <th>Pen</th>\n",
       "      <th>Crate Size</th>\n",
       "      <th>Number Of Heat Lamps</th>\n",
       "      <th>Parity</th>\n",
       "      <th>Farrowing Date</th>\n",
       "      <th>Number Of Pigs Born</th>\n",
       "      <th>...</th>\n",
       "      <th>Number Of Overlays</th>\n",
       "      <th>Total Number Weaned</th>\n",
       "      <th>Litter Birth Weight</th>\n",
       "      <th>Litter Weaning Weight</th>\n",
       "      <th>Percent Mortality</th>\n",
       "      <th>Percent Overlays</th>\n",
       "      <th>Health Status</th>\n",
       "      <th>Unnamed: 24</th>\n",
       "      <th>Unnamed: 25</th>\n",
       "      <th>Unnamed: 26</th>\n",
       "    </tr>\n",
       "  </thead>\n",
       "  <tbody>\n",
       "    <tr>\n",
       "      <th>0</th>\n",
       "      <td>201740</td>\n",
       "      <td>1</td>\n",
       "      <td>201553304</td>\n",
       "      <td>83</td>\n",
       "      <td>205</td>\n",
       "      <td>6 x 8 24</td>\n",
       "      <td>2</td>\n",
       "      <td>4</td>\n",
       "      <td>2017-10-01</td>\n",
       "      <td>13</td>\n",
       "      <td>...</td>\n",
       "      <td>0</td>\n",
       "      <td>9</td>\n",
       "      <td>31.0</td>\n",
       "      <td>177.4</td>\n",
       "      <td>0.000000</td>\n",
       "      <td>0.000000</td>\n",
       "      <td>0</td>\n",
       "      <td>NaN</td>\n",
       "      <td>NaN</td>\n",
       "      <td>NaN</td>\n",
       "    </tr>\n",
       "    <tr>\n",
       "      <th>1</th>\n",
       "      <td>201740</td>\n",
       "      <td>1</td>\n",
       "      <td>201553305</td>\n",
       "      <td>83</td>\n",
       "      <td>212</td>\n",
       "      <td>6 x 8 30</td>\n",
       "      <td>1</td>\n",
       "      <td>4</td>\n",
       "      <td>2017-09-30</td>\n",
       "      <td>17</td>\n",
       "      <td>...</td>\n",
       "      <td>4</td>\n",
       "      <td>12</td>\n",
       "      <td>31.2</td>\n",
       "      <td>200.2</td>\n",
       "      <td>29.411765</td>\n",
       "      <td>23.529412</td>\n",
       "      <td>0</td>\n",
       "      <td>NaN</td>\n",
       "      <td>201740.0</td>\n",
       "      <td>201554002.0</td>\n",
       "    </tr>\n",
       "    <tr>\n",
       "      <th>2</th>\n",
       "      <td>201740</td>\n",
       "      <td>1</td>\n",
       "      <td>201554002</td>\n",
       "      <td>83</td>\n",
       "      <td>218</td>\n",
       "      <td>5 x 7 24</td>\n",
       "      <td>2</td>\n",
       "      <td>4</td>\n",
       "      <td>2017-09-30</td>\n",
       "      <td>14</td>\n",
       "      <td>...</td>\n",
       "      <td>0</td>\n",
       "      <td>14</td>\n",
       "      <td>40.2</td>\n",
       "      <td>212.0</td>\n",
       "      <td>0.000000</td>\n",
       "      <td>0.000000</td>\n",
       "      <td>1</td>\n",
       "      <td>NaN</td>\n",
       "      <td>201740.0</td>\n",
       "      <td>NaN</td>\n",
       "    </tr>\n",
       "    <tr>\n",
       "      <th>3</th>\n",
       "      <td>201740</td>\n",
       "      <td>1</td>\n",
       "      <td>201554409</td>\n",
       "      <td>83</td>\n",
       "      <td>214</td>\n",
       "      <td>6 x 8 30</td>\n",
       "      <td>2</td>\n",
       "      <td>4</td>\n",
       "      <td>2017-10-02</td>\n",
       "      <td>12</td>\n",
       "      <td>...</td>\n",
       "      <td>1</td>\n",
       "      <td>12</td>\n",
       "      <td>44.6</td>\n",
       "      <td>193.3</td>\n",
       "      <td>7.692308</td>\n",
       "      <td>7.692308</td>\n",
       "      <td>1</td>\n",
       "      <td>NaN</td>\n",
       "      <td>201740.0</td>\n",
       "      <td>201554409.0</td>\n",
       "    </tr>\n",
       "    <tr>\n",
       "      <th>4</th>\n",
       "      <td>201740</td>\n",
       "      <td>1</td>\n",
       "      <td>201555406</td>\n",
       "      <td>83</td>\n",
       "      <td>210</td>\n",
       "      <td>6 x 8 30</td>\n",
       "      <td>2</td>\n",
       "      <td>4</td>\n",
       "      <td>2017-09-29</td>\n",
       "      <td>20</td>\n",
       "      <td>...</td>\n",
       "      <td>5</td>\n",
       "      <td>11</td>\n",
       "      <td>23.4</td>\n",
       "      <td>163.7</td>\n",
       "      <td>31.250000</td>\n",
       "      <td>31.250000</td>\n",
       "      <td>1</td>\n",
       "      <td>NaN</td>\n",
       "      <td>201740.0</td>\n",
       "      <td>NaN</td>\n",
       "    </tr>\n",
       "  </tbody>\n",
       "</table>\n",
       "<p>5 rows × 27 columns</p>\n",
       "</div>"
      ],
      "text/plain": [
       "   Farrowing Group  Turn        Sow  Building  Pen Crate Size  \\\n",
       "0           201740     1  201553304        83  205   6 x 8 24   \n",
       "1           201740     1  201553305        83  212   6 x 8 30   \n",
       "2           201740     1  201554002        83  218   5 x 7 24   \n",
       "3           201740     1  201554409        83  214   6 x 8 30   \n",
       "4           201740     1  201555406        83  210   6 x 8 30   \n",
       "\n",
       "   Number Of Heat Lamps  Parity Farrowing Date  Number Of Pigs Born  \\\n",
       "0                     2       4     2017-10-01                   13   \n",
       "1                     1       4     2017-09-30                   17   \n",
       "2                     2       4     2017-09-30                   14   \n",
       "3                     2       4     2017-10-02                   12   \n",
       "4                     2       4     2017-09-29                   20   \n",
       "\n",
       "      ...       Number Of Overlays  Total Number Weaned  Litter Birth Weight  \\\n",
       "0     ...                        0                    9                 31.0   \n",
       "1     ...                        4                   12                 31.2   \n",
       "2     ...                        0                   14                 40.2   \n",
       "3     ...                        1                   12                 44.6   \n",
       "4     ...                        5                   11                 23.4   \n",
       "\n",
       "   Litter Weaning Weight  Percent Mortality  Percent Overlays  Health Status  \\\n",
       "0                  177.4           0.000000          0.000000              0   \n",
       "1                  200.2          29.411765         23.529412              0   \n",
       "2                  212.0           0.000000          0.000000              1   \n",
       "3                  193.3           7.692308          7.692308              1   \n",
       "4                  163.7          31.250000         31.250000              1   \n",
       "\n",
       "   Unnamed: 24  Unnamed: 25  Unnamed: 26  \n",
       "0          NaN          NaN          NaN  \n",
       "1          NaN     201740.0  201554002.0  \n",
       "2          NaN     201740.0          NaN  \n",
       "3          NaN     201740.0  201554409.0  \n",
       "4          NaN     201740.0          NaN  \n",
       "\n",
       "[5 rows x 27 columns]"
      ]
     },
     "execution_count": 82,
     "metadata": {},
     "output_type": "execute_result"
    }
   ],
   "source": [
    "data = pd.read_excel(r\"C:\\Users\\dhanda\\Documents\\PhD\\Coursework\\ABE516X\\Homework\\CaseStudy2\\Divya_HoweClass.xlsx\", sheet_name = \"SowData\", sep ='\\t')\n",
    "data.head()"
   ]
  },
  {
   "cell_type": "code",
   "execution_count": 83,
   "metadata": {},
   "outputs": [
    {
     "data": {
      "text/plain": [
       "Index(['Farrowing Group', 'Turn', 'Sow', 'Building', 'Pen', 'Crate Size',\n",
       "       'Number Of Heat Lamps', 'Parity', 'Farrowing Date',\n",
       "       'Number Of Pigs Born', 'Number Of Mummies', 'Number Of Stillborns',\n",
       "       'Number Live At Birth', 'Number Of Pigs Fostered Off',\n",
       "       'Number Of Pigs Fostered On', 'Number of Pigs to Raise',\n",
       "       'Deaths On Mothering Dam', 'Number Of Overlays', 'Total Number Weaned',\n",
       "       'Litter Birth Weight', 'Litter Weaning Weight', 'Percent Mortality',\n",
       "       'Percent Overlays', 'Health Status', 'Unnamed: 24', 'Unnamed: 25',\n",
       "       'Unnamed: 26'],\n",
       "      dtype='object')"
      ]
     },
     "execution_count": 83,
     "metadata": {},
     "output_type": "execute_result"
    }
   ],
   "source": [
    "data.columns"
   ]
  },
  {
   "cell_type": "code",
   "execution_count": 43,
   "metadata": {},
   "outputs": [
    {
     "data": {
      "text/html": [
       "<div>\n",
       "<style scoped>\n",
       "    .dataframe tbody tr th:only-of-type {\n",
       "        vertical-align: middle;\n",
       "    }\n",
       "\n",
       "    .dataframe tbody tr th {\n",
       "        vertical-align: top;\n",
       "    }\n",
       "\n",
       "    .dataframe thead th {\n",
       "        text-align: right;\n",
       "    }\n",
       "</style>\n",
       "<table border=\"1\" class=\"dataframe\">\n",
       "  <thead>\n",
       "    <tr style=\"text-align: right;\">\n",
       "      <th></th>\n",
       "      <th>Crate Size</th>\n",
       "      <th>Number Of Pigs Born</th>\n",
       "    </tr>\n",
       "  </thead>\n",
       "  <tbody>\n",
       "    <tr>\n",
       "      <th>0</th>\n",
       "      <td>6 x 8 24</td>\n",
       "      <td>13</td>\n",
       "    </tr>\n",
       "    <tr>\n",
       "      <th>1</th>\n",
       "      <td>6 x 8 30</td>\n",
       "      <td>17</td>\n",
       "    </tr>\n",
       "    <tr>\n",
       "      <th>2</th>\n",
       "      <td>5 x 7 24</td>\n",
       "      <td>14</td>\n",
       "    </tr>\n",
       "    <tr>\n",
       "      <th>3</th>\n",
       "      <td>6 x 8 30</td>\n",
       "      <td>12</td>\n",
       "    </tr>\n",
       "    <tr>\n",
       "      <th>4</th>\n",
       "      <td>6 x 8 30</td>\n",
       "      <td>20</td>\n",
       "    </tr>\n",
       "  </tbody>\n",
       "</table>\n",
       "</div>"
      ],
      "text/plain": [
       "  Crate Size  Number Of Pigs Born\n",
       "0   6 x 8 24                   13\n",
       "1   6 x 8 30                   17\n",
       "2   5 x 7 24                   14\n",
       "3   6 x 8 30                   12\n",
       "4   6 x 8 30                   20"
      ]
     },
     "execution_count": 43,
     "metadata": {},
     "output_type": "execute_result"
    }
   ],
   "source": [
    "new_df = data[[\"Crate Size\", \"Number Of Pigs Born\"]]\n",
    "new_df.head()\n"
   ]
  },
  {
   "cell_type": "code",
   "execution_count": 128,
   "metadata": {},
   "outputs": [
    {
     "data": {
      "text/plain": [
       "<function matplotlib.pyplot.show(*args, **kw)>"
      ]
     },
     "execution_count": 128,
     "metadata": {},
     "output_type": "execute_result"
    },
    {
     "data": {
      "image/png": "[encoded data removed]",
      "text/plain": [
       "<Figure size 432x288 with 1 Axes>"
      ]
     },
     "metadata": {
      "needs_background": "light"
     },
     "output_type": "display_data"
    }
   ],
   "source": [
    "size = list(range(1,2,3))\n",
    "for i in size:\n",
    "    labels = new_df[\"Crate Size\"]\n",
    "    borns = new_df[\"Number Of Pigs Born\"]\n",
    "    plt.bar(labels, borns, width = 0.6)\n",
    "plt.title(\"Effect of crate size on pigs born\")\n",
    "plt.xlabel(\"Crate Size\")\n",
    "plt.ylabel(\"Number of pigs born\")\n",
    "plt.show"
   ]
  },
  {
   "cell_type": "markdown",
   "metadata": {},
   "source": [
    "### Q2: Find the relation between Crate size and number of stillborn pigs "
   ]
  },
  {
   "cell_type": "code",
   "execution_count": 70,
   "metadata": {},
   "outputs": [],
   "source": [
    "import pandas as pd\n",
    "import numpy as np\n",
    "import matplotlib.pyplot as plt\n"
   ]
  },
  {
   "cell_type": "code",
   "execution_count": 86,
   "metadata": {},
   "outputs": [],
   "source": [
    "data2 = data"
   ]
  },
  {
   "cell_type": "code",
   "execution_count": 87,
   "metadata": {},
   "outputs": [
    {
     "data": {
      "text/html": [
       "<div>\n",
       "<style scoped>\n",
       "    .dataframe tbody tr th:only-of-type {\n",
       "        vertical-align: middle;\n",
       "    }\n",
       "\n",
       "    .dataframe tbody tr th {\n",
       "        vertical-align: top;\n",
       "    }\n",
       "\n",
       "    .dataframe thead th {\n",
       "        text-align: right;\n",
       "    }\n",
       "</style>\n",
       "<table border=\"1\" class=\"dataframe\">\n",
       "  <thead>\n",
       "    <tr style=\"text-align: right;\">\n",
       "      <th></th>\n",
       "      <th>Crate Size</th>\n",
       "      <th>Number Of Stillborns</th>\n",
       "    </tr>\n",
       "  </thead>\n",
       "  <tbody>\n",
       "    <tr>\n",
       "      <th>0</th>\n",
       "      <td>6 x 8 24</td>\n",
       "      <td>1</td>\n",
       "    </tr>\n",
       "    <tr>\n",
       "      <th>1</th>\n",
       "      <td>6 x 8 30</td>\n",
       "      <td>0</td>\n",
       "    </tr>\n",
       "    <tr>\n",
       "      <th>2</th>\n",
       "      <td>5 x 7 24</td>\n",
       "      <td>0</td>\n",
       "    </tr>\n",
       "    <tr>\n",
       "      <th>3</th>\n",
       "      <td>6 x 8 30</td>\n",
       "      <td>1</td>\n",
       "    </tr>\n",
       "    <tr>\n",
       "      <th>4</th>\n",
       "      <td>6 x 8 30</td>\n",
       "      <td>0</td>\n",
       "    </tr>\n",
       "  </tbody>\n",
       "</table>\n",
       "</div>"
      ],
      "text/plain": [
       "  Crate Size  Number Of Stillborns\n",
       "0   6 x 8 24                     1\n",
       "1   6 x 8 30                     0\n",
       "2   5 x 7 24                     0\n",
       "3   6 x 8 30                     1\n",
       "4   6 x 8 30                     0"
      ]
     },
     "execution_count": 87,
     "metadata": {},
     "output_type": "execute_result"
    }
   ],
   "source": [
    "new_df2 = data2[[\"Crate Size\",\"Number Of Stillborns\"]]\n",
    "new_df2.head()\n"
   ]
  },
  {
   "cell_type": "code",
   "execution_count": 127,
   "metadata": {},
   "outputs": [
    {
     "data": {
      "text/plain": [
       "<function matplotlib.pyplot.show(*args, **kw)>"
      ]
     },
     "execution_count": 127,
     "metadata": {},
     "output_type": "execute_result"
    },
    {
     "data": {
      "image/png": "[encoded data removed]",
      "text/plain": [
       "<Figure size 432x288 with 1 Axes>"
      ]
     },
     "metadata": {
      "needs_background": "light"
     },
     "output_type": "display_data"
    }
   ],
   "source": [
    "size = list(range(1,2,3))\n",
    "for i in size:\n",
    "    labels = new_df2[\"Crate Size\"]\n",
    "    stillborns = new_df2[\"Number Of Stillborns\"]\n",
    "    plt.bar(labels, stillborns, width = 0.6)\n",
    "plt.title(\"Effect of crate size on stillborn pigs\")\n",
    "plt.xlabel(\"Crate Size\")\n",
    "plt.ylabel(\"Number of stillborns\")\n",
    "plt.show"
   ]
  },
  {
   "cell_type": "markdown",
   "metadata": {},
   "source": [
    "### Q3: Find relation between number of stillborns and farrowing group"
   ]
  },
  {
   "cell_type": "code",
   "execution_count": 93,
   "metadata": {},
   "outputs": [
    {
     "data": {
      "text/html": [
       "<div>\n",
       "<style scoped>\n",
       "    .dataframe tbody tr th:only-of-type {\n",
       "        vertical-align: middle;\n",
       "    }\n",
       "\n",
       "    .dataframe tbody tr th {\n",
       "        vertical-align: top;\n",
       "    }\n",
       "\n",
       "    .dataframe thead th {\n",
       "        text-align: right;\n",
       "    }\n",
       "</style>\n",
       "<table border=\"1\" class=\"dataframe\">\n",
       "  <thead>\n",
       "    <tr style=\"text-align: right;\">\n",
       "      <th></th>\n",
       "      <th>Farrowing Group</th>\n",
       "      <th>Turn</th>\n",
       "      <th>Sow</th>\n",
       "      <th>Building</th>\n",
       "      <th>Pen</th>\n",
       "      <th>Crate Size</th>\n",
       "      <th>Number Of Heat Lamps</th>\n",
       "      <th>Parity</th>\n",
       "      <th>Farrowing Date</th>\n",
       "      <th>Number Of Pigs Born</th>\n",
       "      <th>...</th>\n",
       "      <th>Number Of Overlays</th>\n",
       "      <th>Total Number Weaned</th>\n",
       "      <th>Litter Birth Weight</th>\n",
       "      <th>Litter Weaning Weight</th>\n",
       "      <th>Percent Mortality</th>\n",
       "      <th>Percent Overlays</th>\n",
       "      <th>Health Status</th>\n",
       "      <th>Unnamed: 24</th>\n",
       "      <th>Unnamed: 25</th>\n",
       "      <th>Unnamed: 26</th>\n",
       "    </tr>\n",
       "  </thead>\n",
       "  <tbody>\n",
       "    <tr>\n",
       "      <th>0</th>\n",
       "      <td>201740</td>\n",
       "      <td>1</td>\n",
       "      <td>201553304</td>\n",
       "      <td>83</td>\n",
       "      <td>205</td>\n",
       "      <td>6 x 8 24</td>\n",
       "      <td>2</td>\n",
       "      <td>4</td>\n",
       "      <td>2017-10-01</td>\n",
       "      <td>13</td>\n",
       "      <td>...</td>\n",
       "      <td>0</td>\n",
       "      <td>9</td>\n",
       "      <td>31.0</td>\n",
       "      <td>177.4</td>\n",
       "      <td>0.000000</td>\n",
       "      <td>0.000000</td>\n",
       "      <td>0</td>\n",
       "      <td>NaN</td>\n",
       "      <td>NaN</td>\n",
       "      <td>NaN</td>\n",
       "    </tr>\n",
       "    <tr>\n",
       "      <th>1</th>\n",
       "      <td>201740</td>\n",
       "      <td>1</td>\n",
       "      <td>201553305</td>\n",
       "      <td>83</td>\n",
       "      <td>212</td>\n",
       "      <td>6 x 8 30</td>\n",
       "      <td>1</td>\n",
       "      <td>4</td>\n",
       "      <td>2017-09-30</td>\n",
       "      <td>17</td>\n",
       "      <td>...</td>\n",
       "      <td>4</td>\n",
       "      <td>12</td>\n",
       "      <td>31.2</td>\n",
       "      <td>200.2</td>\n",
       "      <td>29.411765</td>\n",
       "      <td>23.529412</td>\n",
       "      <td>0</td>\n",
       "      <td>NaN</td>\n",
       "      <td>201740.0</td>\n",
       "      <td>201554002.0</td>\n",
       "    </tr>\n",
       "    <tr>\n",
       "      <th>2</th>\n",
       "      <td>201740</td>\n",
       "      <td>1</td>\n",
       "      <td>201554002</td>\n",
       "      <td>83</td>\n",
       "      <td>218</td>\n",
       "      <td>5 x 7 24</td>\n",
       "      <td>2</td>\n",
       "      <td>4</td>\n",
       "      <td>2017-09-30</td>\n",
       "      <td>14</td>\n",
       "      <td>...</td>\n",
       "      <td>0</td>\n",
       "      <td>14</td>\n",
       "      <td>40.2</td>\n",
       "      <td>212.0</td>\n",
       "      <td>0.000000</td>\n",
       "      <td>0.000000</td>\n",
       "      <td>1</td>\n",
       "      <td>NaN</td>\n",
       "      <td>201740.0</td>\n",
       "      <td>NaN</td>\n",
       "    </tr>\n",
       "    <tr>\n",
       "      <th>3</th>\n",
       "      <td>201740</td>\n",
       "      <td>1</td>\n",
       "      <td>201554409</td>\n",
       "      <td>83</td>\n",
       "      <td>214</td>\n",
       "      <td>6 x 8 30</td>\n",
       "      <td>2</td>\n",
       "      <td>4</td>\n",
       "      <td>2017-10-02</td>\n",
       "      <td>12</td>\n",
       "      <td>...</td>\n",
       "      <td>1</td>\n",
       "      <td>12</td>\n",
       "      <td>44.6</td>\n",
       "      <td>193.3</td>\n",
       "      <td>7.692308</td>\n",
       "      <td>7.692308</td>\n",
       "      <td>1</td>\n",
       "      <td>NaN</td>\n",
       "      <td>201740.0</td>\n",
       "      <td>201554409.0</td>\n",
       "    </tr>\n",
       "    <tr>\n",
       "      <th>4</th>\n",
       "      <td>201740</td>\n",
       "      <td>1</td>\n",
       "      <td>201555406</td>\n",
       "      <td>83</td>\n",
       "      <td>210</td>\n",
       "      <td>6 x 8 30</td>\n",
       "      <td>2</td>\n",
       "      <td>4</td>\n",
       "      <td>2017-09-29</td>\n",
       "      <td>20</td>\n",
       "      <td>...</td>\n",
       "      <td>5</td>\n",
       "      <td>11</td>\n",
       "      <td>23.4</td>\n",
       "      <td>163.7</td>\n",
       "      <td>31.250000</td>\n",
       "      <td>31.250000</td>\n",
       "      <td>1</td>\n",
       "      <td>NaN</td>\n",
       "      <td>201740.0</td>\n",
       "      <td>NaN</td>\n",
       "    </tr>\n",
       "  </tbody>\n",
       "</table>\n",
       "<p>5 rows × 27 columns</p>\n",
       "</div>"
      ],
      "text/plain": [
       "   Farrowing Group  Turn        Sow  Building  Pen Crate Size  \\\n",
       "0           201740     1  201553304        83  205   6 x 8 24   \n",
       "1           201740     1  201553305        83  212   6 x 8 30   \n",
       "2           201740     1  201554002        83  218   5 x 7 24   \n",
       "3           201740     1  201554409        83  214   6 x 8 30   \n",
       "4           201740     1  201555406        83  210   6 x 8 30   \n",
       "\n",
       "   Number Of Heat Lamps  Parity Farrowing Date  Number Of Pigs Born  \\\n",
       "0                     2       4     2017-10-01                   13   \n",
       "1                     1       4     2017-09-30                   17   \n",
       "2                     2       4     2017-09-30                   14   \n",
       "3                     2       4     2017-10-02                   12   \n",
       "4                     2       4     2017-09-29                   20   \n",
       "\n",
       "      ...       Number Of Overlays  Total Number Weaned  Litter Birth Weight  \\\n",
       "0     ...                        0                    9                 31.0   \n",
       "1     ...                        4                   12                 31.2   \n",
       "2     ...                        0                   14                 40.2   \n",
       "3     ...                        1                   12                 44.6   \n",
       "4     ...                        5                   11                 23.4   \n",
       "\n",
       "   Litter Weaning Weight  Percent Mortality  Percent Overlays  Health Status  \\\n",
       "0                  177.4           0.000000          0.000000              0   \n",
       "1                  200.2          29.411765         23.529412              0   \n",
       "2                  212.0           0.000000          0.000000              1   \n",
       "3                  193.3           7.692308          7.692308              1   \n",
       "4                  163.7          31.250000         31.250000              1   \n",
       "\n",
       "   Unnamed: 24  Unnamed: 25  Unnamed: 26  \n",
       "0          NaN          NaN          NaN  \n",
       "1          NaN     201740.0  201554002.0  \n",
       "2          NaN     201740.0          NaN  \n",
       "3          NaN     201740.0  201554409.0  \n",
       "4          NaN     201740.0          NaN  \n",
       "\n",
       "[5 rows x 27 columns]"
      ]
     },
     "execution_count": 93,
     "metadata": {},
     "output_type": "execute_result"
    }
   ],
   "source": [
    "data3 = data\n",
    "data3.head()"
   ]
  },
  {
   "cell_type": "code",
   "execution_count": 121,
   "metadata": {},
   "outputs": [
    {
     "data": {
      "text/html": [
       "<div>\n",
       "<style scoped>\n",
       "    .dataframe tbody tr th:only-of-type {\n",
       "        vertical-align: middle;\n",
       "    }\n",
       "\n",
       "    .dataframe tbody tr th {\n",
       "        vertical-align: top;\n",
       "    }\n",
       "\n",
       "    .dataframe thead th {\n",
       "        text-align: right;\n",
       "    }\n",
       "</style>\n",
       "<table border=\"1\" class=\"dataframe\">\n",
       "  <thead>\n",
       "    <tr style=\"text-align: right;\">\n",
       "      <th></th>\n",
       "      <th>Number Of Stillborns</th>\n",
       "      <th>Farrowing Group</th>\n",
       "    </tr>\n",
       "  </thead>\n",
       "  <tbody>\n",
       "    <tr>\n",
       "      <th>0</th>\n",
       "      <td>1</td>\n",
       "      <td>201740</td>\n",
       "    </tr>\n",
       "    <tr>\n",
       "      <th>1</th>\n",
       "      <td>0</td>\n",
       "      <td>201740</td>\n",
       "    </tr>\n",
       "    <tr>\n",
       "      <th>2</th>\n",
       "      <td>0</td>\n",
       "      <td>201740</td>\n",
       "    </tr>\n",
       "    <tr>\n",
       "      <th>3</th>\n",
       "      <td>1</td>\n",
       "      <td>201740</td>\n",
       "    </tr>\n",
       "    <tr>\n",
       "      <th>4</th>\n",
       "      <td>0</td>\n",
       "      <td>201740</td>\n",
       "    </tr>\n",
       "  </tbody>\n",
       "</table>\n",
       "</div>"
      ],
      "text/plain": [
       "   Number Of Stillborns  Farrowing Group\n",
       "0                     1           201740\n",
       "1                     0           201740\n",
       "2                     0           201740\n",
       "3                     1           201740\n",
       "4                     0           201740"
      ]
     },
     "execution_count": 121,
     "metadata": {},
     "output_type": "execute_result"
    }
   ],
   "source": [
    "new_df3 = data3[[\"Number Of Stillborns\", \"Farrowing Group\"]]\n",
    "new_df3.head()\n"
   ]
  },
  {
   "cell_type": "code",
   "execution_count": 135,
   "metadata": {},
   "outputs": [],
   "source": [
    "fargroup = new_df3.groupby('Farrowing Group', as_index = False).mean()"
   ]
  },
  {
   "cell_type": "code",
   "execution_count": 136,
   "metadata": {},
   "outputs": [
    {
     "data": {
      "text/plain": [
       "<matplotlib.axes._subplots.AxesSubplot at 0x2a80e531048>"
      ]
     },
     "execution_count": 136,
     "metadata": {},
     "output_type": "execute_result"
    },
    {
     "data": {
      "image/png": "[encoded data removed]",
      "text/plain": [
       "<Figure size 432x288 with 1 Axes>"
      ]
     },
     "metadata": {
      "needs_background": "light"
     },
     "output_type": "display_data"
    }
   ],
   "source": [
    "fargroup.plot(x = \"Farrowing Group\", y = \"Number Of Stillborns\", kind = \"bar\")\n"
   ]
  },
  {
   "cell_type": "markdown",
   "metadata": {},
   "source": [
    "### Discussion\n",
    "#### For Q1 and Q2, I evaluated the effect of crate size on the number of pigs born and stillborns. The crate with size \"5x724\" seemed to be most favourable, with highest number of pig births. Crate \"6x830\" had the most number of still born pigs and was thus the least favourable crate size.\n",
    "#### In Q3, I evaluated the Farrowing group that had the highest average rate of stillborn pigs. Group '201753' had highest stillbirths closely followed by group '201747'.\n",
    "#### For further analysis, I would like to find relation btw Farrowing group and Crate size. "
   ]
  },
  {
   "cell_type": "code",
   "execution_count": null,
   "metadata": {},
   "outputs": [],
   "source": []
  }
 ],
 "metadata": {
  "kernelspec": {
   "display_name": "Python 3",
   "language": "python",
   "name": "python3"
  },
  "language_info": {
   "codemirror_mode": {
    "name": "ipython",
    "version": 3
   },
   "file_extension": ".py",
   "mimetype": "text/x-python",
   "name": "python",
   "nbconvert_exporter": "python",
   "pygments_lexer": "ipython3",
   "version": "3.7.1"
  }
 },
 "nbformat": 4,
 "nbformat_minor": 2
}
